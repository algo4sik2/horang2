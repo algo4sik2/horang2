{
  "cells": [
    {
      "cell_type": "code",
      "execution_count": 2,
      "metadata": {
        "colab": {
          "base_uri": "https://localhost:8080/"
        },
        "id": "At_aadZVKM_V",
        "outputId": "894cb121-949f-4a2c-9299-eb2f66c504d6"
      },
      "outputs": [
        {
          "name": "stdout",
          "output_type": "stream",
          "text": [
            "Fri Mar 18 03:54:50 2022       \n",
            "+-----------------------------------------------------------------------------+\n",
            "| NVIDIA-SMI 460.32.03    Driver Version: 460.32.03    CUDA Version: 11.2     |\n",
            "|-------------------------------+----------------------+----------------------+\n",
            "| GPU  Name        Persistence-M| Bus-Id        Disp.A | Volatile Uncorr. ECC |\n",
            "| Fan  Temp  Perf  Pwr:Usage/Cap|         Memory-Usage | GPU-Util  Compute M. |\n",
            "|                               |                      |               MIG M. |\n",
            "|===============================+======================+======================|\n",
            "|   0  Tesla T4            Off  | 00000000:00:04.0 Off |                    0 |\n",
            "| N/A   44C    P8     9W /  70W |      0MiB / 15109MiB |      0%      Default |\n",
            "|                               |                      |                  N/A |\n",
            "+-------------------------------+----------------------+----------------------+\n",
            "                                                                               \n",
            "+-----------------------------------------------------------------------------+\n",
            "| Processes:                                                                  |\n",
            "|  GPU   GI   CI        PID   Type   Process name                  GPU Memory |\n",
            "|        ID   ID                                                   Usage      |\n",
            "|=============================================================================|\n",
            "|  No running processes found                                                 |\n",
            "+-----------------------------------------------------------------------------+\n"
          ]
        }
      ],
      "source": [
        "!nvidia-smi"
      ]
    },
    {
      "cell_type": "markdown",
      "metadata": {
        "id": "0xmrkSbCKHjU"
      },
      "source": [
        "# 01. 유효한 팰린드롬\n",
        "\n",
        "주어진 문자열이 팰린드롬 (앞뒤가 똑같은 단어나 문장) 인지 확인하라. 대소문자를 구분하지 않으며, 영문자와 숫자만을 대상으로 한다."
      ]
    },
    {
      "cell_type": "code",
      "execution_count": 9,
      "metadata": {
        "id": "weiHABnUKEXs"
      },
      "outputs": [],
      "source": [
        "input_ = [\"A man, a plan, a canal: Panama\", \"race a car\"]"
      ]
    },
    {
      "cell_type": "markdown",
      "metadata": {
        "id": "Z3QF7WW9OVpV"
      },
      "source": [
        "### 풀이1. 리스트 변환"
      ]
    },
    {
      "cell_type": "code",
      "execution_count": 36,
      "metadata": {
        "id": "QUXNOaJPKXOe"
      },
      "outputs": [],
      "source": [
        "def isPalindrome1(strings):\n",
        "      strs = []\n",
        "      for char in strings:\n",
        "          if char.isalnum(): # isalnum : 영어, 한국어, 숫자로 구성되어 있으면 참\n",
        "              strs.append(char.lower())\n",
        "\n",
        "      # 팰린드롬 여부 판별\n",
        "      while len(strs) > 1:\n",
        "          if strs.pop(0) != strs.pop():\n",
        "              return False\n",
        "\n",
        "      return True"
      ]
    },
    {
      "cell_type": "code",
      "execution_count": 37,
      "metadata": {
        "colab": {
          "base_uri": "https://localhost:8080/"
        },
        "id": "f5Ixpz6yKtlG",
        "outputId": "cba16bbe-e560-475a-9c5b-2db9dffc6489"
      },
      "outputs": [
        {
          "data": {
            "text/plain": [
              "[True, False]"
            ]
          },
          "execution_count": 37,
          "metadata": {},
          "output_type": "execute_result"
        }
      ],
      "source": [
        "list(map(isPalindrome1, input_))"
      ]
    },
    {
      "cell_type": "code",
      "execution_count": 13,
      "metadata": {
        "id": "30dheL4_Kvg_"
      },
      "outputs": [],
      "source": [
        "S = \"안녕하세요\""
      ]
    },
    {
      "cell_type": "code",
      "execution_count": 14,
      "metadata": {
        "colab": {
          "base_uri": "https://localhost:8080/",
          "height": 36
        },
        "id": "GMg5XmlRMDL4",
        "outputId": "f035bd35-fcd4-4d6b-fb70-9522d81c3d95"
      },
      "outputs": [
        {
          "data": {
            "application/vnd.google.colaboratory.intrinsic+json": {
              "type": "string"
            },
            "text/plain": [
              "'녕하세'"
            ]
          },
          "execution_count": 14,
          "metadata": {},
          "output_type": "execute_result"
        }
      ],
      "source": [
        "S[1:4]"
      ]
    },
    {
      "cell_type": "code",
      "execution_count": 15,
      "metadata": {
        "colab": {
          "base_uri": "https://localhost:8080/",
          "height": 36
        },
        "id": "9BLNpHjKMcvU",
        "outputId": "28837fab-cce5-468b-ec27-9a2912f58b88"
      },
      "outputs": [
        {
          "data": {
            "application/vnd.google.colaboratory.intrinsic+json": {
              "type": "string"
            },
            "text/plain": [
              "'녕하'"
            ]
          },
          "execution_count": 15,
          "metadata": {},
          "output_type": "execute_result"
        }
      ],
      "source": [
        "S[1:-2]"
      ]
    },
    {
      "cell_type": "code",
      "execution_count": 17,
      "metadata": {
        "colab": {
          "base_uri": "https://localhost:8080/",
          "height": 36
        },
        "id": "jGAGO0woMei9",
        "outputId": "2baf6324-d6f1-40b5-92fc-5b1a43609386"
      },
      "outputs": [
        {
          "data": {
            "application/vnd.google.colaboratory.intrinsic+json": {
              "type": "string"
            },
            "text/plain": [
              "'녕하세요'"
            ]
          },
          "execution_count": 17,
          "metadata": {},
          "output_type": "execute_result"
        }
      ],
      "source": [
        "S[1:]"
      ]
    },
    {
      "cell_type": "code",
      "execution_count": 18,
      "metadata": {
        "colab": {
          "base_uri": "https://localhost:8080/",
          "height": 36
        },
        "id": "9UZFohlHMsHs",
        "outputId": "a78be936-17e8-46b2-fbfb-79b4c021239b"
      },
      "outputs": [
        {
          "data": {
            "application/vnd.google.colaboratory.intrinsic+json": {
              "type": "string"
            },
            "text/plain": [
              "'안녕하세요'"
            ]
          },
          "execution_count": 18,
          "metadata": {},
          "output_type": "execute_result"
        }
      ],
      "source": [
        "S[:]"
      ]
    },
    {
      "cell_type": "code",
      "execution_count": 19,
      "metadata": {
        "colab": {
          "base_uri": "https://localhost:8080/",
          "height": 36
        },
        "id": "rG3OX3kOMvAB",
        "outputId": "76ef1445-4e41-4bdf-9324-225d3e1c761e"
      },
      "outputs": [
        {
          "data": {
            "application/vnd.google.colaboratory.intrinsic+json": {
              "type": "string"
            },
            "text/plain": [
              "'녕하세요'"
            ]
          },
          "execution_count": 19,
          "metadata": {},
          "output_type": "execute_result"
        }
      ],
      "source": [
        "S[1:100]"
      ]
    },
    {
      "cell_type": "code",
      "execution_count": 20,
      "metadata": {
        "colab": {
          "base_uri": "https://localhost:8080/",
          "height": 36
        },
        "id": "PLQwhvd-MwLR",
        "outputId": "6246e1b8-54db-4c5f-f7c3-14dd208006b0"
      },
      "outputs": [
        {
          "data": {
            "application/vnd.google.colaboratory.intrinsic+json": {
              "type": "string"
            },
            "text/plain": [
              "'요'"
            ]
          },
          "execution_count": 20,
          "metadata": {},
          "output_type": "execute_result"
        }
      ],
      "source": [
        "S[-1]"
      ]
    },
    {
      "cell_type": "code",
      "execution_count": 21,
      "metadata": {
        "colab": {
          "base_uri": "https://localhost:8080/",
          "height": 36
        },
        "id": "_w4CdAGIMxCr",
        "outputId": "dc1b308e-09d3-417e-cf6b-850bb495d5c7"
      },
      "outputs": [
        {
          "data": {
            "application/vnd.google.colaboratory.intrinsic+json": {
              "type": "string"
            },
            "text/plain": [
              "'녕'"
            ]
          },
          "execution_count": 21,
          "metadata": {},
          "output_type": "execute_result"
        }
      ],
      "source": [
        "S[-4]"
      ]
    },
    {
      "cell_type": "code",
      "execution_count": 22,
      "metadata": {
        "colab": {
          "base_uri": "https://localhost:8080/",
          "height": 36
        },
        "id": "FYs4adChMx2g",
        "outputId": "ce462f29-c372-4656-d2f9-e13c9666ed52"
      },
      "outputs": [
        {
          "data": {
            "application/vnd.google.colaboratory.intrinsic+json": {
              "type": "string"
            },
            "text/plain": [
              "'안녕'"
            ]
          },
          "execution_count": 22,
          "metadata": {},
          "output_type": "execute_result"
        }
      ],
      "source": [
        "S[:-3]"
      ]
    },
    {
      "cell_type": "code",
      "execution_count": 23,
      "metadata": {
        "colab": {
          "base_uri": "https://localhost:8080/",
          "height": 36
        },
        "id": "c-E5uKh-MyrP",
        "outputId": "e70f6547-6ec6-4791-94d5-ad3aee4c0ade"
      },
      "outputs": [
        {
          "data": {
            "application/vnd.google.colaboratory.intrinsic+json": {
              "type": "string"
            },
            "text/plain": [
              "'하세요'"
            ]
          },
          "execution_count": 23,
          "metadata": {},
          "output_type": "execute_result"
        }
      ],
      "source": [
        "S[-3:]"
      ]
    },
    {
      "cell_type": "code",
      "execution_count": 24,
      "metadata": {
        "colab": {
          "base_uri": "https://localhost:8080/",
          "height": 36
        },
        "id": "kHXnvDYqMzuX",
        "outputId": "f3a5b3cd-6deb-49ac-fccb-6cba49c66ea2"
      },
      "outputs": [
        {
          "data": {
            "application/vnd.google.colaboratory.intrinsic+json": {
              "type": "string"
            },
            "text/plain": [
              "'안녕하세요'"
            ]
          },
          "execution_count": 24,
          "metadata": {},
          "output_type": "execute_result"
        }
      ],
      "source": [
        "S[::1]"
      ]
    },
    {
      "cell_type": "code",
      "execution_count": 25,
      "metadata": {
        "colab": {
          "base_uri": "https://localhost:8080/",
          "height": 36
        },
        "id": "zxvKedKWM04P",
        "outputId": "67cc3299-44eb-41ef-f7f7-d7caf683deb0"
      },
      "outputs": [
        {
          "data": {
            "application/vnd.google.colaboratory.intrinsic+json": {
              "type": "string"
            },
            "text/plain": [
              "'요세하녕안'"
            ]
          },
          "execution_count": 25,
          "metadata": {},
          "output_type": "execute_result"
        }
      ],
      "source": [
        "S[::-1]"
      ]
    },
    {
      "cell_type": "code",
      "execution_count": 26,
      "metadata": {
        "colab": {
          "base_uri": "https://localhost:8080/",
          "height": 36
        },
        "id": "homwoebwM1rx",
        "outputId": "484495e4-8f18-49d5-8750-d8984d57fb30"
      },
      "outputs": [
        {
          "data": {
            "application/vnd.google.colaboratory.intrinsic+json": {
              "type": "string"
            },
            "text/plain": [
              "'안하요'"
            ]
          },
          "execution_count": 26,
          "metadata": {},
          "output_type": "execute_result"
        }
      ],
      "source": [
        "S[::2]"
      ]
    },
    {
      "cell_type": "markdown",
      "metadata": {
        "id": "7CSQaMBsOQPT"
      },
      "source": [
        "### 풀이2. 데크 자료형을 이용한 최적화"
      ]
    },
    {
      "cell_type": "code",
      "execution_count": 38,
      "metadata": {
        "id": "dENqWZ2oNqhO"
      },
      "outputs": [],
      "source": [
        "import collections\n",
        "\n",
        "def isPalindrome2(strings):\n",
        "    strs = collections.deque()\n",
        "    \n",
        "    for c in strings:\n",
        "        if c.isalnum():\n",
        "            strs.append(c.lower())\n",
        "    \n",
        "    while len(strs)>1:\n",
        "        if strs.popleft() != strs.pop():\n",
        "            return False\n",
        "    \n",
        "    return True"
      ]
    },
    {
      "cell_type": "code",
      "execution_count": 39,
      "metadata": {
        "colab": {
          "base_uri": "https://localhost:8080/"
        },
        "id": "R2AuSb70N4ya",
        "outputId": "1ae9f9b7-02e1-47fe-b465-a0578384fc85"
      },
      "outputs": [
        {
          "data": {
            "text/plain": [
              "[True, False]"
            ]
          },
          "execution_count": 39,
          "metadata": {},
          "output_type": "execute_result"
        }
      ],
      "source": [
        "list(map(isPalindrome2, input_))"
      ]
    },
    {
      "cell_type": "markdown",
      "metadata": {
        "id": "o3C1_rxQOeH-"
      },
      "source": [
        "### 풀이3. 슬라이싱 사용"
      ]
    },
    {
      "cell_type": "code",
      "execution_count": 40,
      "metadata": {
        "id": "yljNR_znOGKo"
      },
      "outputs": [],
      "source": [
        "import re\n",
        "\n",
        "def isPalindrome3(strings):\n",
        "    strings = strings.lower()\n",
        "    strings = re.sub('[^a-z0-9]', '', strings) # re.sub('[^a-z0-9]', '', strings) : ^는 not을 의미하며, 알파벳이나 숫자를 제외하고 삭제함을 의미\n",
        "    \n",
        "    return strings == strings[::-1]"
      ]
    },
    {
      "cell_type": "code",
      "execution_count": 41,
      "metadata": {
        "colab": {
          "base_uri": "https://localhost:8080/"
        },
        "id": "y4GUIAQaOkxu",
        "outputId": "c76c820b-f1e2-4ec3-ea35-fd28fb2848b1"
      },
      "outputs": [
        {
          "data": {
            "text/plain": [
              "[True, False]"
            ]
          },
          "execution_count": 41,
          "metadata": {},
          "output_type": "execute_result"
        }
      ],
      "source": [
        "list(map(isPalindrome3, input_))"
      ]
    },
    {
      "cell_type": "markdown",
      "metadata": {
        "id": "YyCTDjrJNgtt"
      },
      "source": [
        "# 02. 문자열 뒤집기\n",
        "\n",
        "문자열을 뒤집는 함수를 작성하라. 입력값은 문자 배열이며, 리턴 없이 리스트 내부를 직접 조작하라."
      ]
    },
    {
      "cell_type": "code",
      "execution_count": 42,
      "metadata": {
        "id": "hXxO168jM1-a"
      },
      "outputs": [],
      "source": [
        "input_ = [[\"h\", \"e\", \"l\", \"l\", \"o\"], [\"H\", \"a\", \"n\", \"n\", \"a\", \"h\"]]"
      ]
    },
    {
      "cell_type": "markdown",
      "metadata": {
        "id": "GT8ud24zQfhu"
      },
      "source": [
        "### 풀이 1. 투 포인터를 이용한 스왑"
      ]
    },
    {
      "cell_type": "code",
      "execution_count": 43,
      "metadata": {
        "id": "-u0mHaT7Qd8o"
      },
      "outputs": [],
      "source": [
        "def reverseString1(s):\n",
        "    left , right = 0, len(s)-1\n",
        "    while left < right:\n",
        "        s[left], s[right] = s[right], s[left]\n",
        "        left += 1\n",
        "        right -= 1\n",
        "    return s"
      ]
    },
    {
      "cell_type": "code",
      "execution_count": 44,
      "metadata": {
        "colab": {
          "base_uri": "https://localhost:8080/"
        },
        "id": "T9qI0nTEQ947",
        "outputId": "31934a27-a7c4-4b74-e003-17df8d30f282"
      },
      "outputs": [
        {
          "data": {
            "text/plain": [
              "[['o', 'l', 'l', 'e', 'h'], ['h', 'a', 'n', 'n', 'a', 'H']]"
            ]
          },
          "execution_count": 44,
          "metadata": {},
          "output_type": "execute_result"
        }
      ],
      "source": [
        "list(map(reverseString1, input_))"
      ]
    },
    {
      "cell_type": "markdown",
      "metadata": {
        "id": "RWY-6mLZREYY"
      },
      "source": [
        "### 풀이 2. 파이썬 풀이"
      ]
    },
    {
      "cell_type": "code",
      "execution_count": 47,
      "metadata": {
        "id": "ztlX7oW3RA3I"
      },
      "outputs": [],
      "source": [
        "def reverseString2(s):\n",
        "    s.reverse()\n",
        "    return s"
      ]
    },
    {
      "cell_type": "code",
      "execution_count": 48,
      "metadata": {
        "colab": {
          "base_uri": "https://localhost:8080/"
        },
        "id": "JrgeJw6_RQQ_",
        "outputId": "2accfec5-b1bd-432b-e3b3-a4794ff3e9b9"
      },
      "outputs": [
        {
          "data": {
            "text/plain": [
              "[['o', 'l', 'l', 'e', 'h'], ['h', 'a', 'n', 'n', 'a', 'H']]"
            ]
          },
          "execution_count": 48,
          "metadata": {},
          "output_type": "execute_result"
        }
      ],
      "source": [
        "list(map(reverseString2, input_))"
      ]
    },
    {
      "cell_type": "markdown",
      "metadata": {
        "id": "GFKcnALBUj9R"
      },
      "source": [
        "# Q3. 로그 파일 재정렬\n",
        "\n",
        "로그를 재정렬하라. 기준은 다음과 같다.\n",
        "\n",
        "1. 로그의 가장 앞 부분은 식별자다.\n",
        "2. 문자로 구성된 로그가 숫자 로그보다 앞에 온다.\n",
        "3. 식별자는 순서에 영향을 끼치지 않지만, 문자가 동일한 경우 식별자 순으로 한다.\n",
        "4. 숫자 로그는 입력 순서대로 한다."
      ]
    },
    {
      "cell_type": "code",
      "execution_count": 49,
      "metadata": {
        "id": "tWLlCJbZRWqe"
      },
      "outputs": [],
      "source": [
        "logs = [\"dig1 8 1 5 1\", \"let1 art can\", \"dig2 3 6\", \"let2 own kit dig\", \"let3 art zero\"]"
      ]
    },
    {
      "cell_type": "markdown",
      "metadata": {
        "id": "RmsHS-ScUxo0"
      },
      "source": [
        "### 풀이1. 람다와 + 연산자를 이용"
      ]
    },
    {
      "cell_type": "code",
      "execution_count": 55,
      "metadata": {
        "id": "wVVfnTaoUvmq"
      },
      "outputs": [],
      "source": [
        "def reorder(logs):\n",
        "    letters, digits = [], []\n",
        "\n",
        "    for log in logs:\n",
        "        if log.split()[1].isdigit():\n",
        "            digits.append(log)\n",
        "        else:\n",
        "            letters.append(log)\n",
        "\n",
        "    # 2개의 키를 람다 표현식으로 정렬    \n",
        "    letters.sort(key=lambda x:(x.split()[1:], x.split()[0]))\n",
        "    return letters + digits"
      ]
    },
    {
      "cell_type": "code",
      "execution_count": 56,
      "metadata": {
        "colab": {
          "base_uri": "https://localhost:8080/"
        },
        "id": "7qKos8uqVQp-",
        "outputId": "51af9f4c-06be-4d18-fb78-fe263a0ce81e"
      },
      "outputs": [
        {
          "data": {
            "text/plain": [
              "['let1 art can',\n",
              " 'let3 art zero',\n",
              " 'let2 own kit dig',\n",
              " 'dig1 8 1 5 1',\n",
              " 'dig2 3 6']"
            ]
          },
          "execution_count": 56,
          "metadata": {},
          "output_type": "execute_result"
        }
      ],
      "source": [
        "reorder(logs)"
      ]
    },
    {
      "cell_type": "markdown",
      "metadata": {
        "id": "7tEe_JwKWAqu"
      },
      "source": [
        "# Q4. 가장 흔한 단어\n",
        "\n",
        "금지된 단어를 제외한 가장 흔하게 등장하는 단어를 출력하라. 대소문자 구분을 하지 않으며, 구두점(마침표, 쉼표 등)또한 무시한다.\n",
        "\n"
      ]
    },
    {
      "cell_type": "code",
      "execution_count": 66,
      "metadata": {
        "id": "-M0Yy3jMVS1M"
      },
      "outputs": [],
      "source": [
        "paragraph = \"Bob hit a ball, the hit BALL flew far after it was hit\"\n",
        "banned = [\"hit\"]"
      ]
    },
    {
      "cell_type": "markdown",
      "metadata": {
        "id": "9ta2XgAgWGDi"
      },
      "source": [
        "### 풀이1. 리스트 컴프리헨션, Counter 객체 사용"
      ]
    },
    {
      "cell_type": "code",
      "execution_count": 67,
      "metadata": {
        "id": "Kbu9TXhuWEa3"
      },
      "outputs": [],
      "source": [
        "def mostCommonWord(paragraph):\n",
        "    words = [word for word in re.sub(r'[^\\w]', ' ', paragraph)\n",
        "      .lower().split()\n",
        "               if word not in banned]\n",
        "\n",
        "    counts= collections.Counter(words)\n",
        "    # 가장 흔하게 등장하는 단어의 첫 번째 인덱스 리턴\n",
        "    return counts.most_common(1)[0][0]"
      ]
    },
    {
      "cell_type": "code",
      "execution_count": 68,
      "metadata": {
        "colab": {
          "base_uri": "https://localhost:8080/",
          "height": 36
        },
        "id": "ymENyb-CWmvc",
        "outputId": "3c7a61db-6f5a-4239-ee02-17fb55c374b5"
      },
      "outputs": [
        {
          "data": {
            "application/vnd.google.colaboratory.intrinsic+json": {
              "type": "string"
            },
            "text/plain": [
              "'ball'"
            ]
          },
          "execution_count": 68,
          "metadata": {},
          "output_type": "execute_result"
        }
      ],
      "source": [
        "mostCommonWord(paragraph)"
      ]
    },
    {
      "cell_type": "markdown",
      "metadata": {
        "id": "XxiSDX9jW_Vk"
      },
      "source": [
        "# Q5. 그룹 애너그램\n",
        "\n",
        "문자열 배열을 받아 애너그램 (문자를 재배열하여 다른 뜻을 가진 단어로 바꾸는 것) 단위로 그룹핑하라."
      ]
    },
    {
      "cell_type": "markdown",
      "metadata": {
        "id": "4cUJIOgOXI7l"
      },
      "source": [
        "### 풀이1. 정렬하여 딕셔너리에 추가\n",
        "\n",
        "애너그램을 판단하는 가장 간단한 방법은 정렬하여 비교하는 것입니다.\n",
        "\n",
        "애너그램 관계인 단어들을 정렬하면 서로 같은 값을 갖게 되기 때문입니다.\n",
        "\n",
        "sorted( )는 문자열도 잘 정렬하며 결과를 리스트 형태로 리턴하는데,\n",
        "\n",
        "이를 다시 키로 사용하기 위해 join( )으로 합쳐 이 값을 키로 하는 딕셔너리로 구성합니다.\n",
        "\n",
        "애너그램끼리는 같은 키를 갖게 되고 따라서 여기 에 append( )하는 형태가 됩니다.\n",
        "\n",
        "참고로 파이썬의 딕셔너리는 5장에서 살펴본 것처럼 키/ 값 해시 테이블 자료형입니다.\n",
        "\n",
        "- anagrams[''.join(sorted(word))].append(word)\n",
        "\n",
        "이처럼 정렬한 값을 키로하여 딕셔너리에 추가합니다.\n",
        "\n",
        "만약 존재하지 않는 키를 삽입하려 할 경우 KeyError가 발생하므로,\n",
        "\n",
        "에러가 나지 않도록 다음과 같이 항상 디폴트를 생성해 주는 defaultdict( )로 선언하며,\n",
        "\n",
        "매번 키 존재 여부를 체크하지 않고 비교 구문을 생략 해 간결하게 구성합니다.\n",
        "\n",
        "- anagrams = collections.defaultdict(list)\n"
      ]
    },
    {
      "cell_type": "code",
      "execution_count": 90,
      "metadata": {
        "id": "E0JE255tWpWs"
      },
      "outputs": [],
      "source": [
        "input_ = [\"eat\", \"tea\", \"tan\", \"ate\", \"nat\", \"bat\"]"
      ]
    },
    {
      "cell_type": "code",
      "execution_count": 93,
      "metadata": {
        "id": "zRAOyZ_iXN1s"
      },
      "outputs": [],
      "source": [
        "def groupAnagrams(strs):\n",
        "    anagrams = collections.defaultdict(list) # <- 제가 여기에 대해서 이해를 못 한 거 같아서.. 혹시 설명해주실 수 있으신 분?\n",
        "    \n",
        "    # collection은 파이썬 내장 모듈이며, defaultdict 클래스의 생성자로 기본값을 생성해주는 함수를 넘기면,\n",
        "    # 모든 키에 대해서 값이 없는 경우 자동으로 생성자의 인자로 넘어온 함수를 호출하여 그 결과값으로 설정\n",
        "    \n",
        "    for word in strs:\n",
        "      # 정렬하여 딕셔너리에 추가\n",
        "        anagrams[''.join(sorted(word))].append(word)\n",
        "    \n",
        "    return list(anagrams.values())"
      ]
    },
    {
      "cell_type": "code",
      "execution_count": 94,
      "metadata": {
        "colab": {
          "base_uri": "https://localhost:8080/"
        },
        "id": "IfHCKZA1Xiwz",
        "outputId": "a83f85db-d1c0-4971-a8a6-691cd1942eaf"
      },
      "outputs": [
        {
          "data": {
            "text/plain": [
              "[['eat', 'tea', 'ate'], ['tan', 'nat'], ['bat']]"
            ]
          },
          "execution_count": 94,
          "metadata": {},
          "output_type": "execute_result"
        }
      ],
      "source": [
        "groupAnagrams(input_)"
      ]
    },
    {
      "cell_type": "markdown",
      "metadata": {
        "id": "cxC2JHjqjLhC"
      },
      "source": [
        "### 정렬 함수 sorted()의 사용 예시"
      ]
    },
    {
      "cell_type": "code",
      "execution_count": 80,
      "metadata": {
        "colab": {
          "base_uri": "https://localhost:8080/"
        },
        "id": "mymf580vjDBZ",
        "outputId": "1d5f06a9-316a-425d-f97a-36acb8cbe506"
      },
      "outputs": [
        {
          "data": {
            "text/plain": [
              "[1, 2, 5, 7, 9]"
            ]
          },
          "execution_count": 80,
          "metadata": {},
          "output_type": "execute_result"
        }
      ],
      "source": [
        "# 숫자 정렬하기\n",
        "a = [2, 5, 1, 9, 7]\n",
        "\n",
        "sorted(a)"
      ]
    },
    {
      "cell_type": "code",
      "execution_count": 81,
      "metadata": {
        "colab": {
          "base_uri": "https://localhost:8080/"
        },
        "id": "unZUpMNWjIo5",
        "outputId": "d6603b29-fad4-451a-9a35-0d50a6da921f"
      },
      "outputs": [
        {
          "data": {
            "text/plain": [
              "['a', 'b', 'd', 'f', 'z']"
            ]
          },
          "execution_count": 81,
          "metadata": {},
          "output_type": "execute_result"
        }
      ],
      "source": [
        "# 문자 정렬하기\n",
        "b = 'zbdaf'\n",
        "\n",
        "sorted(b)"
      ]
    },
    {
      "cell_type": "markdown",
      "metadata": {
        "id": "jwF-Ywh1jkbP"
      },
      "source": [
        "''.join(리스트) : ''.join(리스트)를 이용하면 매개변수로 들어온 ['a', 'b', 'c'] 이런 식의 리스트를 'abc'의 문자열로 합쳐서 반환해주는 함수"
      ]
    },
    {
      "cell_type": "code",
      "execution_count": 82,
      "metadata": {
        "colab": {
          "base_uri": "https://localhost:8080/",
          "height": 36
        },
        "id": "mUvvX1CIjIC1",
        "outputId": "524077d1-a4ad-413a-e7c9-f200b6362f69"
      },
      "outputs": [
        {
          "data": {
            "application/vnd.google.colaboratory.intrinsic+json": {
              "type": "string"
            },
            "text/plain": [
              "'abdfz'"
            ]
          },
          "execution_count": 82,
          "metadata": {},
          "output_type": "execute_result"
        }
      ],
      "source": [
        "# join () 이용하기\n",
        "b = 'zbdaf'\n",
        "\"\".join(sorted(b))"
      ]
    },
    {
      "cell_type": "markdown",
      "metadata": {
        "id": "NWcDA3ALjvhZ"
      },
      "source": [
        "sorted() 함수는 key = 옵션을 지정해 정렬을 위한 키 또는 함수를 별도로 지정해 줄 수 있습니다.\n",
        "\n",
        "아래의 예시는 정렬을 위한 함수로 길이를 구하는 len을 지정한 경우입니다.\n",
        "\n",
        "즉, c 에서 길일가 짧은 순으로 정렬이 되는 것을 확인할 수 있습니다."
      ]
    },
    {
      "cell_type": "code",
      "execution_count": 83,
      "metadata": {
        "colab": {
          "base_uri": "https://localhost:8080/"
        },
        "id": "pF5iYC_vjoB3",
        "outputId": "435cbeab-03cf-4765-b04a-2e737ddf28a3"
      },
      "outputs": [
        {
          "data": {
            "text/plain": [
              "['d', 'bb', 'ccc', 'aaaa']"
            ]
          },
          "execution_count": 83,
          "metadata": {},
          "output_type": "execute_result"
        }
      ],
      "source": [
        "c = ['ccc', 'aaaa', 'd', 'bb']\n",
        "sorted(c, key = len)"
      ]
    },
    {
      "cell_type": "markdown",
      "metadata": {
        "id": "Igjl4a1OkGcp"
      },
      "source": [
        "함수를 이용해서 키를 정의하는 방법의 예시\n",
        "\n",
        "첫 문자열 s[0] 과 마지막 문자열 s[-1] 순으로 정렬하도록 지정해보기"
      ]
    },
    {
      "cell_type": "code",
      "execution_count": 84,
      "metadata": {
        "colab": {
          "base_uri": "https://localhost:8080/"
        },
        "id": "Oj4Y2fDRkRuN",
        "outputId": "9a7f1255-7314-411a-8c66-fd0ab9e95cd9"
      },
      "outputs": [
        {
          "name": "stdout",
          "output_type": "stream",
          "text": [
            "['abc', 'cfc', 'cde']\n"
          ]
        }
      ],
      "source": [
        "a = ['cde', 'cfc', 'abc']\n",
        "\n",
        "def fn(s):\n",
        "  return s[0], s[-1]\n",
        "\n",
        "print(sorted(a, key=fn))"
      ]
    },
    {
      "cell_type": "markdown",
      "metadata": {
        "id": "Pui1D35ulU4W"
      },
      "source": [
        "람다식 활용"
      ]
    },
    {
      "cell_type": "code",
      "execution_count": 85,
      "metadata": {
        "colab": {
          "base_uri": "https://localhost:8080/"
        },
        "id": "TbH-9BJ4lUVI",
        "outputId": "f85e4276-197f-4204-b584-5fdd6abe2313"
      },
      "outputs": [
        {
          "data": {
            "text/plain": [
              "['abc', 'cfc', 'cde']"
            ]
          },
          "execution_count": 85,
          "metadata": {},
          "output_type": "execute_result"
        }
      ],
      "source": [
        "a = ['cde', 'cfc', 'abc']\n",
        "\n",
        "sorted(a, key=lambda s: (s[0], s[-1]))"
      ]
    },
    {
      "cell_type": "markdown",
      "metadata": {
        "id": "E0ICMgpiYGBj"
      },
      "source": [
        "# Q6. 가장 긴 팰린드롬 부분 문자열 <- 요건 못 품 ㅠㅜ\n",
        "\n",
        "가장 긴 팰린드롬 부분 문자열을 출력하라."
      ]
    },
    {
      "cell_type": "code",
      "execution_count": 72,
      "metadata": {
        "id": "WU0-JGnRXm1t"
      },
      "outputs": [],
      "source": [
        "input_ = [\"babad\", \"cbbd\"]"
      ]
    },
    {
      "cell_type": "markdown",
      "metadata": {
        "id": "PU1ajyr1YOKU"
      },
      "source": [
        "### 풀이1. 중앙을 중심으로 확장하는 풀이"
      ]
    },
    {
      "cell_type": "code",
      "execution_count": 78,
      "metadata": {
        "id": "3X3Pqd4MYKhB"
      },
      "outputs": [],
      "source": [
        "def longestPalindrome(strings):\n",
        "\n",
        "    # 팰린드롬 판별 및 투 포인터 확장\n",
        "    def expand(left, right):\n",
        "        while left>=0 and right <len(strings) and strings[left] == strings[right]:\n",
        "            left -= 1\n",
        "            right += 1\n",
        "        return strings[left + 1:right]\n",
        "    \n",
        "    # 해당 사항이 없을때 빠르게 리턴\n",
        "    if len(strings) < 2 or strings == strings[::-1]:\n",
        "        return strings\n",
        "      \n",
        "    result = ''\n",
        "\n",
        "    # 슬라이딩 윈도우 우측으로 이동\n",
        "    for i in range(len(strings) -1):\n",
        "        result = max(result,\n",
        "                     expand(i, i+1),\n",
        "                     expand(i, i+2),\n",
        "                     key=len)\n",
        "    \n",
        "    return result"
      ]
    },
    {
      "cell_type": "code",
      "execution_count": 79,
      "metadata": {
        "colab": {
          "base_uri": "https://localhost:8080/"
        },
        "id": "tPSeSJ4-ZEV_",
        "outputId": "d06fcae3-94af-427b-8089-24ddf087f17d"
      },
      "outputs": [
        {
          "data": {
            "text/plain": [
              "['cbbd']"
            ]
          },
          "execution_count": 79,
          "metadata": {},
          "output_type": "execute_result"
        }
      ],
      "source": [
        "longestPalindrome(input_)"
      ]
    },
    {
      "cell_type": "code",
      "execution_count": null,
      "metadata": {
        "id": "n3QolkKuZISx"
      },
      "outputs": [],
      "source": []
    }
  ],
  "metadata": {
    "accelerator": "GPU",
    "colab": {
      "name": "호랭이코딩 1일차.ipynb",
      "provenance": []
    },
    "kernelspec": {
      "display_name": "Python 3",
      "name": "python3"
    },
    "language_info": {
      "name": "python"
    }
  },
  "nbformat": 4,
  "nbformat_minor": 0
}
