{
  "nbformat": 4,
  "nbformat_minor": 0,
  "metadata": {
    "colab": {
      "name": "\bch9_스택_큐.ipynb",
      "provenance": []
    },
    "kernelspec": {
      "name": "python3",
      "display_name": "Python 3"
    },
    "language_info": {
      "name": "python"
    }
  },
  "cells": [
    {
      "cell_type": "code",
      "execution_count": null,
      "metadata": {
        "id": "FLcH88FbLOA3"
      },
      "outputs": [],
      "source": [
        "# 연결리스트를 이용한 스택 ADT 구현\n",
        "\n",
        "class Node:\n",
        "    def __init__(self, item, next):\n",
        "        self.item = item\n",
        "        self.next = next\n",
        "    "
      ]
    },
    {
      "cell_type": "code",
      "source": [
        "class Stack:\n",
        "    def __init__(self):\n",
        "        self.last = None\n",
        "\n",
        "    def push(self, item):\n",
        "        self.last = Node(item, self.last) # Node(item, self.last)에서의 self.last가 가리키는 것은 이전 단계의 self.last이다.\n",
        "\n",
        "    def pop(self):\n",
        "        item = self.last.item\n",
        "        self.last = self.last.next\n",
        "        return item"
      ],
      "metadata": {
        "id": "z8p8dT7g4k04"
      },
      "execution_count": null,
      "outputs": []
    },
    {
      "cell_type": "code",
      "source": [
        "stack = Stack() # last1 => None\n",
        "stack.push(1) # last2 => item=1, next=last1\n",
        "stack.push(2) # last3 => item=2, next=last2 \n",
        "stack.push(3) # last4 => item=3, next=last3\n",
        "stack.push(4) # last5 => item=4, next=last4\n",
        "stack.push(5) # last6 => item=5, nest=last5"
      ],
      "metadata": {
        "id": "AeRe2vX_6T3N"
      },
      "execution_count": null,
      "outputs": []
    },
    {
      "cell_type": "code",
      "source": [
        "stack.pop() # item = 5, last = last5\n",
        "stack.pop() # item = 4, last = last4\n",
        "stack.pop() # item = 3, last = last3\n",
        "stack.pop() # item = 2, last = last2\n",
        "stack.pop() # item = 1, last = last1 = None\n"
      ],
      "metadata": {
        "colab": {
          "base_uri": "https://localhost:8080/"
        },
        "id": "Hz_lIfAP72T1",
        "outputId": "f4601c62-8f49-4c3e-a57e-e4de895839ff"
      },
      "execution_count": null,
      "outputs": [
        {
          "output_type": "execute_result",
          "data": {
            "text/plain": [
              "1"
            ]
          },
          "metadata": {},
          "execution_count": 7
        }
      ]
    },
    {
      "cell_type": "markdown",
      "source": [
        "### 20번. 유효한 괄호\n",
        "괄호로 된 입력값이 올바른지 판별하라.  \n",
        "input : ()[]{}.  \n",
        "output : true"
      ],
      "metadata": {
        "id": "6N-odONZ-54a"
      }
    },
    {
      "cell_type": "code",
      "source": [
        "def isValid(s):\n",
        "    stack = []\n",
        "    table = {\n",
        "        ')' : '(',\n",
        "        '}' : '{',\n",
        "        ']' : '['\n",
        "    }\n",
        "\n",
        "    for char in s:\n",
        "        if char not in table: \n",
        "            stack.append(char) # stack = ['(', '{', '[']\n",
        "        elif not stack or table[char] != stack.pop(): # table[char] = ['(', '{', '[']\n",
        "            return False\n",
        "    return len(stack) == 0\n"
      ],
      "metadata": {
        "id": "OCN0y9L1_JeO"
      },
      "execution_count": null,
      "outputs": []
    },
    {
      "cell_type": "code",
      "source": [
        "s = '()[]{}'\n",
        "\n",
        "isValid(s)"
      ],
      "metadata": {
        "colab": {
          "base_uri": "https://localhost:8080/"
        },
        "id": "R99xEnnVAaUr",
        "outputId": "bd3387a8-a7c3-4487-d01f-6d2e738dc10f"
      },
      "execution_count": null,
      "outputs": [
        {
          "output_type": "execute_result",
          "data": {
            "text/plain": [
              "True"
            ]
          },
          "metadata": {},
          "execution_count": 11
        }
      ]
    },
    {
      "cell_type": "markdown",
      "source": [
        "### 21번. 중복 문자 제거\n",
        "중복된 문자를 제외하고 사전식 순서로 나열해라  \n",
        "input : 'bcabc'.  \n",
        "output : 'abc'.  \n",
        "\n",
        "input2 : 'cbacdcbc'.  \n",
        "output2 : 'acdb'"
      ],
      "metadata": {
        "id": "oMzhPdGRAec_"
      }
    },
    {
      "cell_type": "markdown",
      "source": [
        "sol1의 경우.  \n",
        "ex) input : 'cbacdcbc'.  \n"
      ],
      "metadata": {
        "id": "2S-LLSOJ6RnY"
      }
    },
    {
      "cell_type": "code",
      "source": [
        "# sol1. \n",
        "\n",
        "def removeDuplicateLetters(s):\n",
        "    # 집합으로 정렬\n",
        "    for char in sorted(set(s)):\n",
        "        suffix = s[s.index(char):] # char문자를 제외한 그 뒤의 문자들 -> ex) char = 'c'일 경우 suffix = 'bacdcbc'\n",
        "        # 전체 집합과 접미사 집합이 일치할 때 분리 진행\n",
        "        if set(s) == set(suffix): # 같을 경우 : suffix 앞에 날려버린 문자는 뒤에서도 중복됨. 같지 않을 경우 : suffix앞에 날려버린 문자는 중복되지 않음\n",
        "            return char + removeDuplicateLetters(suffix.replace(char,'')) # suffix에서 중복되는 문자는 제거하고 연결\n",
        "    return ''"
      ],
      "metadata": {
        "id": "S9diLoDcH5-a"
      },
      "execution_count": 1,
      "outputs": []
    },
    {
      "cell_type": "code",
      "source": [
        "s = 'cdfbcdabc'\n",
        "removeDuplicateLetters(s)"
      ],
      "metadata": {
        "colab": {
          "base_uri": "https://localhost:8080/",
          "height": 35
        },
        "id": "aCaNad7BeqKm",
        "outputId": "c1afc87f-7c9c-4e21-a3bc-a4296f8ea3fc"
      },
      "execution_count": 2,
      "outputs": [
        {
          "output_type": "execute_result",
          "data": {
            "text/plain": [
              "'cdfab'"
            ],
            "application/vnd.google.colaboratory.intrinsic+json": {
              "type": "string"
            }
          },
          "metadata": {},
          "execution_count": 2
        }
      ]
    },
    {
      "cell_type": "code",
      "source": [
        "# sol2.\n",
        "import collections\n",
        "\n",
        "def removeDuplicateLetters2(s):\n",
        "    counter, seen, stack = collections.Counter(s), set(), []\n",
        "\n",
        "    for char in s:\n",
        "        counter[char] -= 1 # 확인한 단어의 카운트를 줄이는 역할\n",
        "        if char in seen: # 이미 처리된 \n",
        "            continue\n",
        "        \n",
        "        while stack and char < stack[-1] and counter[stack[-1]]>0: # stack에 값이 존재 + char가 stack의 가장 위에 있는 값보다 앞선 문자 + stack의 가장 위에 있는 문자가 뒤에 또 나오는 문자\n",
        "            seen.remove(stack.pop()) # 해당 문자 char는 seen에서 \n",
        "        stack.append(char)\n",
        "        seen.add(char)\n",
        "\n",
        "    return ''.join(stack)"
      ],
      "metadata": {
        "id": "fVs7zLKXUiFc"
      },
      "execution_count": null,
      "outputs": []
    },
    {
      "cell_type": "markdown",
      "source": [
        "### 22번. 일일 온도\n",
        "매일의 화씨 온도 리스트 T를 입력받아서, 더 따뜻한 날씨를 위해서는 며칠을 더 기다려야 하는지를 출력하라.  \n",
        "input : T = [73,74,75,71,69,72,76,63].  \n",
        "output : [1,1,4,2,1,1,0,0]"
      ],
      "metadata": {
        "id": "0van1vvHbUMZ"
      }
    },
    {
      "cell_type": "code",
      "source": [
        "# 스택 값 비교\n",
        "\n",
        "T = [73,74,75,71,69,72,76,63]\n",
        "\n",
        "def dailyTemperatures(T):\n",
        "\n",
        "    answer = [0] * len(T) # 기다려야 하는 날짜를 담은 리스트\n",
        "    stack = [] # 자기보다 높은 갚이 나올때까지 기다리는 대기장소??\n",
        "\n",
        "    for i, cur in enumerate(T):\n",
        "        # 현재 온도가 스택 값보다 높으면 정답\n",
        "        while stack and cur > T[stack[-1]]:\n",
        "            last = stack.pop() # 자기보다 큰 값이 나오면 스택에서 제거\n",
        "            answer[last] = i - last # 인덱스 값을 통해 날짜를 계산\n",
        "        stack.append(i)\n",
        "    return answer\n",
        "    "
      ],
      "metadata": {
        "id": "3Xo0-Av7dAWZ"
      },
      "execution_count": null,
      "outputs": []
    },
    {
      "cell_type": "markdown",
      "source": [
        "### 23번. 큐를 이용한 스택 구현"
      ],
      "metadata": {
        "id": "FAyCTM1NxKZL"
      }
    },
    {
      "cell_type": "code",
      "source": [
        "import collections\n",
        "\n",
        "class MyStack:\n",
        "    def __init__(self):\n",
        "        self.q = collections.deque()\n",
        "\n",
        "    def push(self, x):\n",
        "        self.q.append(x)\n",
        "        for _ in range(len(self.q) - 1):\n",
        "            self.q.append(self.q.popleft())\n",
        "\n",
        "    # q = [1]\n",
        "    # q = [1,2] -> q = [2,1]\n",
        "    # q = [2,1,3] -> q = [3,2,1]\n",
        "\n",
        "    def pop(self):\n",
        "        return self.q.popleft()\n",
        "    \n",
        "    def top(self):\n",
        "        return self.q[0]\n",
        "\n",
        "    def empty(self):\n",
        "        return len(self.q) == 0"
      ],
      "metadata": {
        "id": "O4-pk6yExdoZ"
      },
      "execution_count": null,
      "outputs": []
    },
    {
      "cell_type": "code",
      "source": [
        "stack = MyStack()\n",
        "stack.push(1)\n",
        "stack.push(2)\n",
        "stack.top()\n",
        "stack.pop()\n",
        "stack.empty()"
      ],
      "metadata": {
        "colab": {
          "base_uri": "https://localhost:8080/"
        },
        "id": "nG4fnbxD1vR_",
        "outputId": "34b1ab79-a8a9-48c6-c9c4-623d853d2f54"
      },
      "execution_count": null,
      "outputs": [
        {
          "output_type": "execute_result",
          "data": {
            "text/plain": [
              "False"
            ]
          },
          "metadata": {},
          "execution_count": 17
        }
      ]
    },
    {
      "cell_type": "markdown",
      "source": [
        "### 24번. 스택을 이용한 큐 구현"
      ],
      "metadata": {
        "id": "H2EL4JSU2f6Y"
      }
    },
    {
      "cell_type": "code",
      "source": [
        "class MyQueue:\n",
        "    def __init__(self):\n",
        "        self.input = []\n",
        "        self.output = []\n",
        "    \n",
        "    # 요소 x를 큐 마지막에 삽입\n",
        "    def push(self, x):\n",
        "        self.input.append(x)\n",
        "    \n",
        "    # 큐 처음에 있는 요소를 제거\n",
        "    def pop(self):\n",
        "        self.peek()\n",
        "        return self.output.pop()\n",
        "\n",
        "    # 큐 처음에 있는 요소를 조회\n",
        "    def peek(self):\n",
        "        if not self.output:\n",
        "            while self.input:\n",
        "                self.output.append(self.input.pop()) \n",
        "        return self.output[-1]\n",
        "\n",
        "    # 큐가 비어 있는지 여부를 확인\n",
        "    def empty(self):\n",
        "        return self.input == [] and self.output == []"
      ],
      "metadata": {
        "id": "3TrL2r-x2p8t"
      },
      "execution_count": null,
      "outputs": []
    },
    {
      "cell_type": "code",
      "source": [
        "# input = [1,2,3]\n",
        "# output = [3,2,1]"
      ],
      "metadata": {
        "id": "-jZm1eamNVHN"
      },
      "execution_count": null,
      "outputs": []
    },
    {
      "cell_type": "code",
      "source": [
        "queue = MyQueue()\n",
        "queue.push(1)\n",
        "queue.push(2)\n",
        "queue.peek()\n",
        "# queue.pop()\n",
        "# queue.empty()"
      ],
      "metadata": {
        "colab": {
          "base_uri": "https://localhost:8080/"
        },
        "id": "DxonkPCXPR5t",
        "outputId": "3acc69af-2d76-41c8-9b5b-8aaacf8e8761"
      },
      "execution_count": null,
      "outputs": [
        {
          "output_type": "execute_result",
          "data": {
            "text/plain": [
              "1"
            ]
          },
          "metadata": {},
          "execution_count": 3
        }
      ]
    },
    {
      "cell_type": "markdown",
      "source": [
        "### 25번. 원형 큐 디자인"
      ],
      "metadata": {
        "id": "HaYI8WepPc_l"
      }
    },
    {
      "cell_type": "code",
      "source": [
        "class MyCircularQueue:\n",
        "    def __init__(self, k):\n",
        "        self.q = [None] * k\n",
        "        self.maxlen = k # 최대길이\n",
        "        self.p1 = 0 # front 포인터\n",
        "        self.p2 = 0 # rear 포인터\n",
        "\n",
        "    # rear위치에 요소 삽입\n",
        "    def enQueue(self, value):\n",
        "        if self.q[self.p2] is None:\n",
        "            self.q[self.p2] = value\n",
        "            self.p2 = (self.p2 + 1) % self.maxlen # rear 포인터가 전체 길이를 넘어가지 않도록\n",
        "            return True\n",
        "        else:\n",
        "            return False\n",
        "    \n",
        "    # front위치의 요소 삭제\n",
        "    def deQueue(self):\n",
        "        if self.q[self.p1] is None:\n",
        "            return False\n",
        "        \n",
        "        else:\n",
        "            self.q[self.p1] = None\n",
        "            self.p1 = (self.p1 + 1) % self.maxlen\n",
        "            return True\n",
        "\n",
        "    def Front(self):\n",
        "        return -1 if self.q[self.p1] is None else self.q[self.p1]\n",
        "\n",
        "    def Rear(self):\n",
        "        return -1 if self.q[self.p2 - 1] is None else self.q[self.p2 - 1]\n",
        "\n",
        "    def isEmpty(self):\n",
        "        return self.p1 == self.p2 and self.q[self.p1] is None\n",
        "\n",
        "    def isFull(self):\n",
        "        return self.p1 == self.p2 and self.q[self.p1] is not None\n",
        "    "
      ],
      "metadata": {
        "id": "j7LO1gZSPmSA"
      },
      "execution_count": null,
      "outputs": []
    }
  ]
}